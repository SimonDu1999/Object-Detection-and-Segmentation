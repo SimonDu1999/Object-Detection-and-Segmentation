{
  "nbformat": 4,
  "nbformat_minor": 0,
  "metadata": {
    "accelerator": "GPU",
    "colab": {
      "name": "lab3.ipynb",
      "provenance": [],
      "collapsed_sections": [],
      "toc_visible": true,
      "machine_shape": "hm"
    },
    "kernelspec": {
      "display_name": "Python 3",
      "name": "python3"
    }
  },
  "cells": [
    {
      "cell_type": "markdown",
      "metadata": {
        "id": "QHnVupBBn9eR"
      },
      "source": [
        "\n",
        "# Assignment 3\n",
        "\n",
        "This is a template notebook for Assignment 3.\n"
      ]
    },
    {
      "cell_type": "markdown",
      "metadata": {
        "id": "vM54r6jlKTII"
      },
      "source": [
        "## Install dependencies and initialization"
      ]
    },
    {
      "cell_type": "code",
      "metadata": {
        "id": "9_FzH13EjseR"
      },
      "source": [
        "# install dependencies: \n",
        "!pip install pyyaml==5.1 pycocotools>=2.0.1\n",
        "# !pip install detectron2 -f https://dl.fbaipublicfiles.com/detectron2/wheels/cu101/torch1.6/index.html\n",
        "!pip install detectron2 -f https://dl.fbaipublicfiles.com/detectron2/wheels/cu111/torch1.9/index.html"
      ],
      "execution_count": null,
      "outputs": []
    },
    {
      "cell_type": "code",
      "metadata": {
        "id": "dqAUb5Y12qXt"
      },
      "source": [
        "!pwd # shows current directory\n",
        "!ls  # shows all files in this directory\n",
        "!nvidia-smi # shows the specs and the current status of the allocated GPU"
      ],
      "execution_count": null,
      "outputs": []
    },
    {
      "cell_type": "code",
      "metadata": {
        "id": "b-i4hmGYk1dL"
      },
      "source": [
        "# import some common libraries\n",
        "from google.colab.patches import cv2_imshow\n",
        "from sklearn.metrics import jaccard_score\n",
        "from PIL import Image, ImageDraw\n",
        "from tqdm.notebook import tqdm\n",
        "import pandas as pd\n",
        "import numpy as np\n",
        "import datetime\n",
        "import random\n",
        "import json\n",
        "import cv2\n",
        "import csv\n",
        "import os\n",
        "\n",
        "\n",
        "# import some common pytorch utilities\n",
        "from torch.utils.data import Dataset, DataLoader\n",
        "import torchvision.transforms as transforms\n",
        "from torch.autograd import Variable\n",
        "import torch.nn.functional as F\n",
        "import torch.nn as nn\n",
        "import torch\n",
        "import matplotlib.pyplot as plt\n",
        "\n",
        "# import some common detectron2 utilities\n",
        "import detectron2\n",
        "from detectron2 import model_zoo\n",
        "from detectron2.config import get_cfg\n",
        "from detectron2.structures import BoxMode\n",
        "from detectron2.engine import DefaultTrainer\n",
        "from detectron2.engine import DefaultPredictor\n",
        "from detectron2.utils.logger import setup_logger\n",
        "from detectron2.utils.visualizer import ColorMode\n",
        "from detectron2.utils.visualizer import Visualizer\n",
        "from detectron2.data import build_detection_test_loader\n",
        "from detectron2.data import MetadataCatalog, DatasetCatalog\n",
        "from detectron2.evaluation import COCOEvaluator, inference_on_dataset\n",
        "setup_logger()"
      ],
      "execution_count": null,
      "outputs": []
    },
    {
      "cell_type": "code",
      "metadata": {
        "id": "tUA_j6AF1L5Y"
      },
      "source": [
        "# Make sure that GPU is available for your notebook. \n",
        "# Otherwise, you need to update the settungs in Runtime -> Change runtime type -> Hardware accelerator\n",
        "torch.cuda.is_available()"
      ],
      "execution_count": null,
      "outputs": []
    },
    {
      "cell_type": "code",
      "metadata": {
        "id": "ZyAvNCJMmvFF"
      },
      "source": [
        "# You need to mount your google drive in order to load the data:\n",
        "from google.colab import drive\n",
        "drive.mount('/content/drive')\n",
        "# Put all the corresponding data files in a data folder and put the data folder in a same directory with this notebook.\n",
        "# Also create an output directory for your files such as the trained models and the output images."
      ],
      "execution_count": null,
      "outputs": []
    },
    {
      "cell_type": "code",
      "metadata": {
        "id": "A_Di_fgL4HSv"
      },
      "source": [
        "# Define the location of current directory, which should contain data/train, data/test, and data/train.json.\n",
        "# TODO: approx 1 line\n",
        "BASE_DIR = '/content/drive/My Drive/CMPT_CV_lab3'\n",
        "OUTPUT_DIR = '{}/output'.format(BASE_DIR)\n",
        "os.makedirs(OUTPUT_DIR, exist_ok=True)"
      ],
      "execution_count": null,
      "outputs": []
    },
    {
      "cell_type": "markdown",
      "metadata": {
        "id": "Vk4gID50K03a"
      },
      "source": [
        "## Part 1: Object Detection"
      ]
    },
    {
      "cell_type": "markdown",
      "metadata": {
        "id": "xRV-KFJzlur4"
      },
      "source": [
        "### Data Loader"
      ]
    },
    {
      "cell_type": "code",
      "metadata": {
        "id": "dq9GY37ml1kr"
      },
      "source": [
        "'''\n",
        "# This function should return a list of data samples in which each sample is a dictionary. \n",
        "# Make sure to select the correct bbox_mode for the data\n",
        "# For the test data, you only have access to the images, therefore, the annotations should be empty.\n",
        "# Other values could be obtained from the image files.\n",
        "# TODO: approx 35 lines\n",
        "'''\n",
        "# RUN THE improvement block first for data processing method !!!!\n",
        "\n",
        "def get_detection_data(set_name):\n",
        "  data_dirs = '{}/data'.format(BASE_DIR)\n",
        "  dataset = []\n",
        "  if set_name == \"train\":\n",
        "    json_file = os.path.join(data_dirs, \"train.json\")\n",
        "    data_dir = os.path.join(data_dirs, \"train\")\n",
        "    with open(json_file) as f:\n",
        "        imgs_anns = json.load(f)\n",
        "\n",
        "    img_id = -1\n",
        "    record = {}\n",
        "    objs = {}\n",
        "    for idx, elem in enumerate(imgs_anns):\n",
        "      if img_id != elem[\"image_id\"]:\n",
        "        if idx != 0:\n",
        "          record[\"annotations\"] = objs \n",
        "          dataset.append(record)\n",
        "        record = {}       \n",
        "        filename = os.path.join(data_dir, elem[\"file_name\"])\n",
        "        height, width = cv2.imread(filename).shape[:2]\n",
        "        \n",
        "        img_id = elem[\"image_id\"]\n",
        "        id = elem[\"id\"]\n",
        "        bbox = elem[\"bbox\"]\n",
        "\n",
        "        record[\"file_name\"] = filename\n",
        "        record[\"image_id\"] = elem[\"image_id\"]\n",
        "        record[\"height\"] = height\n",
        "        record[\"width\"] = width\n",
        "      \n",
        "        objs = []\n",
        "\n",
        "        obj = {\n",
        "            \"bbox\": bbox,\n",
        "            \"bbox_mode\": BoxMode.XYWH_ABS,\n",
        "            \"segmentation\": elem[\"segmentation\"],\n",
        "            \"category_id\": 0\n",
        "        }\n",
        "        objs.append(obj)\n",
        "      else:\n",
        "        obj = {\n",
        "          \"bbox\": elem[\"bbox\"],\n",
        "          \"bbox_mode\": BoxMode.XYWH_ABS,\n",
        "          \"segmentation\": elem[\"segmentation\"],\n",
        "          \"category_id\": 0\n",
        "        }\n",
        "        objs.append(obj)\n",
        "    record[\"annotations\"] = objs\n",
        "    dataset.append(record)\n",
        "  elif set_name == \"test\":\n",
        "    data_dir = os.path.join(data_dirs, \"test\")\n",
        "    for file in os.listdir(data_dir):\n",
        "      record = {}       \n",
        "      filename = os.path.join(data_dir, file)\n",
        "      height, width = cv2.imread(filename).shape[:2]\n",
        "      record[\"file_name\"] = filename\n",
        "      record[\"height\"] = height\n",
        "      record[\"width\"] = width\n",
        "      record[\"annotations\"] = []\n",
        "      dataset.append(record)\n",
        "  return dataset"
      ],
      "execution_count": null,
      "outputs": []
    },
    {
      "cell_type": "code",
      "metadata": {
        "id": "xCH-2mWxDVVu"
      },
      "source": [
        "'''\n",
        "# Remember to add your dataset to DatasetCatalog and MetadataCatalog\n",
        "# Consdier \"data_detection_train\" and \"data_detection_test\" for registration\n",
        "# You can also add an optional \"data_detection_val\" for your validation by spliting the training data\n",
        "# TODO: approx 5 lines\n",
        "'''\n",
        "# RUN THE improvement block first for data processing method !!!!\n",
        "for d in [\"train\", \"test\"]:\n",
        "    DatasetCatalog.register(\"data_detection_\" + d, lambda d=d: get_detection_data(d))\n",
        "    MetadataCatalog.get(\"data_detection_\" + d).set(thing_classes=[\"plane\"])\n",
        "plane_train_metadata = MetadataCatalog.get(\"data_detection_train\")\n",
        "\n",
        "#rigister the new block dataset\n",
        "dataset_train_dicts = get_detection_data(\"train\")\n",
        "\n",
        "for d in [\"train_block\"]:\n",
        "  DatasetCatalog.register(\"data_detection_\" + d, lambda d=d: dataProcess(dataset_train_dicts))\n",
        "  MetadataCatalog.get(\"data_detection_\" + d).set(thing_classes=[\"plane\"])\n",
        "plane_train_block_metadata = MetadataCatalog.get(\"data_detection_train_block\")"
      ],
      "execution_count": null,
      "outputs": []
    },
    {
      "cell_type": "code",
      "metadata": {
        "id": "qNSdXCL_DVAz"
      },
      "source": [
        "'''\n",
        "# Visualize some samples using Visualizer to make sure that the function works correctly\n",
        "# TODO: approx 5 lines\n",
        "'''\n",
        "\n",
        "# RUN THE improvement block first for data processing method !!!!\n",
        "dataset_train_block_dicts = dataProcess(dataset_train_dicts)\n",
        "\n",
        "for d in [dataset_train_block_dicts[0],dataset_train_block_dicts[1], dataset_train_block_dicts[3]]:\n",
        "    img = cv2.imread(d[\"file_name\"])\n",
        "    visualizer = Visualizer(img[:, :, ::-1], metadata=plane_train_block_metadata)\n",
        "    out = visualizer.draw_dataset_dict(d)\n",
        "    cv2_imshow(out.get_image()[:, :, ::-1])\n"
      ],
      "execution_count": null,
      "outputs": []
    },
    {
      "cell_type": "markdown",
      "metadata": {
        "id": "uM1thbN-ntjI"
      },
      "source": [
        "### Set Configs"
      ]
    },
    {
      "cell_type": "code",
      "metadata": {
        "id": "HUjkwRsOn1O0"
      },
      "source": [
        "'''\n",
        "# Set the configs for the detection part in here.\n",
        "# TODO: approx 15 lines\n",
        "'''\n",
        "cfg = get_cfg()\n",
        "cfg.OUTPUT_DIR = \"{}/output/\".format(BASE_DIR)\n",
        "cfg.merge_from_file(model_zoo.get_config_file(\"COCO-Detection/retinanet_R_101_FPN_3x.yaml\"))\n",
        "cfg.DATASETS.TRAIN = (\"data_detection_train_block\",)\n",
        "cfg.DATASETS.TEST = ()\n",
        "cfg.DATALOADER.NUM_WORKERS = 2\n",
        "cfg.MODEL.WEIGHTS = model_zoo.get_checkpoint_url(\"COCO-Detection/retinanet_R_101_FPN_3x.yaml\")  # Let training initialize from model zoo\n",
        "cfg.SOLVER.IMS_PER_BATCH = 10\n",
        "cfg.SOLVER.BASE_LR = 0.01  # pick a good LR\n",
        "cfg.SOLVER.MAX_ITER = 300    \n",
        "cfg.SOLVER.STEPS = []        # do not decay learning rate\n",
        "cfg.MODEL.RETINANET.NUM_CLASSES = 1  \n",
        "cfg.MODEL.RETINANET.IOU_THRESHOLDS = [0.4, 0.5]\n",
        "cfg.MODEL.RETINANET.IOU_LABELS = [0, -1, 1]\n",
        "# NOTE: this config means the number of classes, but a few popular unofficial tutorials incorrect uses num_classes+1 here.\n",
        "\n",
        "\n"
      ],
      "execution_count": null,
      "outputs": []
    },
    {
      "cell_type": "markdown",
      "metadata": {
        "id": "P4rql8pNokE4"
      },
      "source": [
        "### Training"
      ]
    },
    {
      "cell_type": "code",
      "metadata": {
        "id": "7d3KxiHO_0gb"
      },
      "source": [
        "'''\n",
        "# Create a DefaultTrainer using the above config and train the model\n",
        "# TODO: approx 5 lines\n",
        "'''\n",
        "os.makedirs(cfg.OUTPUT_DIR, exist_ok=True)\n",
        "trainer = DefaultTrainer(cfg) \n",
        "trainer.resume_or_load(resume=False)\n",
        "trainer.train()\n"
      ],
      "execution_count": null,
      "outputs": []
    },
    {
      "cell_type": "code",
      "metadata": {
        "id": "7PnWt1DMUNJG"
      },
      "source": [
        "%load_ext tensorboard\n",
        "%tensorboard --logdir='/content/drive/My Drive/CMPT_CV_lab3/output/'"
      ],
      "execution_count": null,
      "outputs": []
    },
    {
      "cell_type": "markdown",
      "metadata": {
        "id": "fRVEiICco3SV"
      },
      "source": [
        "### Evaluation and Visualization"
      ]
    },
    {
      "cell_type": "code",
      "metadata": {
        "id": "QcCO8GRE_upA"
      },
      "source": [
        ""
      ],
      "execution_count": null,
      "outputs": []
    },
    {
      "cell_type": "code",
      "metadata": {
        "id": "VYCIXdMZvDYL"
      },
      "source": [
        "'''\n",
        "# After training the model, you need to update cfg.MODEL.WEIGHTS\n",
        "# Define a DefaultPredictor\n",
        "'''\n",
        "cfg.MODEL.WEIGHTS = os.path.join(cfg.OUTPUT_DIR, \"model_final.pth\")\n",
        "cfg.MODEL.RETINANET.SCORE_THRESH_TEST = 0.6   # set a custom testing threshold\n",
        "predictor = DefaultPredictor(cfg)"
      ],
      "execution_count": null,
      "outputs": []
    },
    {
      "cell_type": "code",
      "metadata": {
        "id": "_hRCf86KGi5v"
      },
      "source": [
        "'''\n",
        "# Visualize the output for 3 random test samples\n",
        "# TODO: approx 10 lines\n",
        "'''\n",
        "dataset_test_dicts = get_detection_data(\"test\")\n",
        "plane_test_metadata = MetadataCatalog.get(\"data_detection_test\")\n",
        "for d in random.sample(dataset_test_dicts, 3):    \n",
        "    b_img_list, d_list = get_block_imgs(d, \"test\")\n",
        "    outputs_list = [] \n",
        "    out_image = np.zeros((d[\"height\"],d[\"width\"],3), np.uint8)\n",
        "    # divide the test image into blocks\n",
        "    b_w = d_list[0][\"width\"]\n",
        "    b_h = d_list[0][\"height\"]\n",
        "    num_col = 1\n",
        "    num_row = 1\n",
        "    if d[\"width\"] >= 2000:\n",
        "      num_col = d[\"width\"]//1000\n",
        "    if d[\"height\"] >= 2000:\n",
        "      num_row = d[\"height\"]//1000\n",
        "\n",
        "    for i in range(len(b_img_list)):\n",
        "      pred = predictor(b_img_list[i])\n",
        "      v = Visualizer(b_img_list[i][:, :, ::-1],\n",
        "                    metadata=plane_test_metadata, \n",
        "                      # remove the colors of unsegmented pixels. This option is only available for segmentation models\n",
        "      )\n",
        "      out = v.draw_instance_predictions(pred[\"instances\"].to(\"cpu\"))\n",
        "      sub_img = out.get_image()[:, :, ::-1]\n",
        "      current_row = i%num_row\n",
        "      current_col = i//num_row\n",
        "      # merge the block images to whole image and visualize the result\n",
        "      out_image[current_row*b_h:(current_row+1)*b_h, current_col*b_w:(current_col+1)*b_w] = sub_img\n",
        "    cv2_imshow(out_image)\n"
      ],
      "execution_count": null,
      "outputs": []
    },
    {
      "cell_type": "code",
      "metadata": {
        "id": "D0wRdlcKo6BD"
      },
      "source": [
        "'''\n",
        "# Use COCOEvaluator and build_detection_train_loader\n",
        "# You can save the output predictions using inference_on_dataset\n",
        "# TODO: approx 5 lines\n",
        "'''\n",
        "evaluator = COCOEvaluator(\"data_detection_train_block\", output_dir=\"./output\")\n",
        "val_loader = build_detection_test_loader(cfg, \"data_detection_train_block\")\n",
        "print(inference_on_dataset(predictor.model, val_loader, evaluator))\n"
      ],
      "execution_count": null,
      "outputs": []
    },
    {
      "cell_type": "markdown",
      "metadata": {
        "id": "EwYvbwcjpKBk"
      },
      "source": [
        "### Improvements\n",
        "\n",
        "For this part, you can bring any improvement which you have by adding new input parameters to the previous functions or defining new functions and variables."
      ]
    },
    {
      "cell_type": "code",
      "metadata": {
        "id": "xdR6KbCZpOlk"
      },
      "source": [
        "'''\n",
        "# Bring any changes and updates regarding the improvement in here\n",
        "''' \n",
        "import math\n",
        "## data processing\n",
        "def get_block_imgs(elem, dir):\n",
        "    block_img_list = []\n",
        "    data_list = []\n",
        "    filename = elem[\"file_name\"]\n",
        "    anno = elem[\"annotations\"]\n",
        "    width = elem[\"width\"]\n",
        "    height = elem[\"height\"]\n",
        "    img = cv2.imread(filename)\n",
        "    n_hori_block = 1\n",
        "    n_vert_block = 1\n",
        "    if width > 2000:\n",
        "      n_hori_block = width//1000\n",
        "    if height > 2000:\n",
        "      n_vert_block = height//1000\n",
        "    new_w = math.floor(float(width)/n_hori_block)\n",
        "    new_h = math.floor(float(height)/n_vert_block)\n",
        "    for i in range(n_hori_block):\n",
        "      for j in range(n_vert_block):\n",
        "        block_img = img[j*new_h:(j+1)*new_h, i*new_w:(i+1)*new_w]\n",
        "        block_img_list.append(block_img)\n",
        "        data = {} \n",
        "        if dir!=\"test\":\n",
        "          data[\"file_name\"] = os.path.join(dir, filename[-9:-4]+str(j)+str(i)+\".png\")\n",
        "        data[\"width\"] = new_w\n",
        "        data[\"height\"] = new_h\n",
        "        new_anno_list = []\n",
        "        if elem[\"annotations\"] != []:\n",
        "          objs = elem[\"annotations\"]\n",
        "          for obj in objs:\n",
        "            if obj[\"bbox\"][0]>i*new_w and obj[\"bbox\"][0]<(i+1)*new_w and obj[\"bbox\"][1]>j*new_h and obj[\"bbox\"][1]<(j+1)*new_h :\n",
        "              if obj[\"bbox\"][0]+obj[\"bbox\"][2] < (i+1)*new_w and obj[\"bbox\"][1]+obj[\"bbox\"][3] < (j+1)*new_h:\n",
        "                new_ss = []\n",
        "                for seg in obj[\"segmentation\"]:\n",
        "                  new_s=[]\n",
        "                  for k in range(0,len(seg),2):\n",
        "                    new_s.append(seg[k]-i*new_w)\n",
        "                    new_s.append(seg[k+1]-j*new_h)\n",
        "                  new_ss.append(new_s)\n",
        "                new_anno = {\n",
        "                    \"bbox\": [obj[\"bbox\"][0]-i*new_w,obj[\"bbox\"][1]-j*new_h,obj[\"bbox\"][2],obj[\"bbox\"][3]],\n",
        "                    \"bbox_mode\":BoxMode.XYWH_ABS,\n",
        "                    \"segmentation\": new_ss,\n",
        "                    \"category_id\":0\n",
        "                }\n",
        "                new_anno_list.append(new_anno)\n",
        "        data[\"annotations\"] = new_anno_list\n",
        "        data_list.append(data)\n",
        "    return block_img_list, data_list\n",
        "\n",
        "\n",
        "def dataProcess(dataset):\n",
        "  block_dataset = []\n",
        "  data_dirs = '{}/data'.format(BASE_DIR)\n",
        "  block_data_dir = '{}/train_block'.format(data_dirs)\n",
        "  os.makedirs(block_data_dir, exist_ok=True)\n",
        "  for elem in dataset:\n",
        "    block_img_list, data_list = get_block_imgs(elem, block_data_dir)\n",
        "    # save the block image to new training folder\n",
        "    # append the data_list to block_dataset, do not append it if no box in data\n",
        "    num = 0\n",
        "    for i in range(len(data_list)):\n",
        "      if data_list[i][\"annotations\"] != []:\n",
        "        cv2.imwrite(os.path.join(block_data_dir, data_list[i][\"file_name\"]), block_img_list[i])\n",
        "        data_list[i][\"image_id\"] = num\n",
        "        num+=1\n",
        "        block_dataset.append(data_list[i])\n",
        "  return block_dataset\n",
        "\n",
        "\n",
        "\n",
        "\n"
      ],
      "execution_count": null,
      "outputs": []
    },
    {
      "cell_type": "markdown",
      "metadata": {
        "id": "98_M4TooqSs2"
      },
      "source": [
        "## Part 2: Semantic Segmentation"
      ]
    },
    {
      "cell_type": "markdown",
      "metadata": {
        "id": "ByAEsMtIPLrO"
      },
      "source": [
        "### Data Loader"
      ]
    },
    {
      "cell_type": "code",
      "metadata": {
        "id": "peQ95zLuIpkk"
      },
      "source": [
        "'''\n",
        "# Write a function that returns the cropped image and corresponding mask regarding the target bounding box\n",
        "# idx is the index of the target bbox in the data\n",
        "# high-resolution image could be passed or could be load from data['file_name']\n",
        "# You can use the mask attribute of detectron2.utils.visualizer.GenericMask \n",
        "#     to convert the segmentation annotations to binary masks\n",
        "# TODO: approx 10 lines\n",
        "'''\n",
        "from copy import deepcopy\n",
        "def get_instance_sample(data, idx, img=None):\n",
        "  if img is None:\n",
        "    img = cv2.imread(data[\"file_name\"])\n",
        "  bbox = data[\"annotations\"][idx][\"bbox\"]\n",
        "  bbox[0] = int(bbox[0])\n",
        "  bbox[1] = int(bbox[1])\n",
        "  bbox[2] = int(bbox[2])\n",
        "  bbox[3] = int(bbox[3])\n",
        "  seg = deepcopy(data[\"annotations\"][idx][\"segmentation\"])\n",
        "\n",
        "  for i in range(0, len(seg), 1):  \n",
        "    for j in range(0, len(seg[i]), 2):\n",
        "      seg[i][j]-=bbox[0]\n",
        "      seg[i][j+1]-=bbox[1]\n",
        "  obj_img = img[bbox[1]:bbox[1]+bbox[3],bbox[0]:bbox[0]+bbox[2]]\n",
        "\n",
        "  v_poly = detectron2.utils.visualizer.GenericMask(seg,bbox[3],bbox[2])\n",
        "  obj_mask = v_poly.mask\n",
        "\n",
        "  return obj_img, obj_mask\n"
      ],
      "execution_count": null,
      "outputs": []
    },
    {
      "cell_type": "code",
      "metadata": {
        "id": "sxrc9X_pjzj-"
      },
      "source": [
        "'''\n",
        "# We have provided a template data loader for your segmentation training\n",
        "# You need to complete the __getitem__() function before running the code\n",
        "# You may also need to add data augmentation or normalization in here\n",
        "'''\n",
        "\n",
        "class PlaneDataset(Dataset):\n",
        "  def __init__(self, set_name, data_list):\n",
        "      self.transforms = transforms.Compose([\n",
        "          transforms.ToTensor(), # Converting the image to tensor and change the image format (Channels-Last => Channels-First)\n",
        "      ])\n",
        "      self.set_name = set_name\n",
        "      self.data = data_list\n",
        "      self.instance_map = []\n",
        "      for i, d in enumerate(self.data):\n",
        "        for j in range(len(d['annotations'])):\n",
        "          self.instance_map.append([i,j])\n",
        "\n",
        "  '''\n",
        "  # you can change the value of length to a small number like 10 for debugging of your training procedure and overfeating\n",
        "  # make sure to use the correct length for the final training\n",
        "  '''\n",
        "  def __len__(self):\n",
        "      return len(self.instance_map)\n",
        "\n",
        "  def numpy_to_tensor(self, img, mask):\n",
        "    if self.transforms is not None:\n",
        "        img = self.transforms(img)\n",
        "    img = torch.tensor(img, dtype=torch.float)\n",
        "    mask = torch.tensor(mask, dtype=torch.float)\n",
        "    return img, mask\n",
        "\n",
        "  '''\n",
        "  # Complete this part by using get_instance_sample function\n",
        "  # make sure to resize the img and mask to a fixed size (for example 128*128)\n",
        "  # you can use \"interpolate\" function of pytorch or \"numpy.resize\"\n",
        "  # TODO: 5 lines\n",
        "  '''\n",
        "  def __getitem__(self, idx):\n",
        "    if torch.is_tensor(idx):\n",
        "        idx = idx.tolist()\n",
        "    idx = self.instance_map[idx]\n",
        "    data = self.data[idx[0]]\n",
        "    img, mask = get_instance_sample(data, idx[1])\n",
        "    img = cv2.resize(img, dsize=(128, 128), interpolation=cv2.INTER_CUBIC)\n",
        "    mask = cv2.resize(mask, dsize=(128, 128), interpolation=cv2.INTER_CUBIC)\n",
        "    img, mask = self.numpy_to_tensor(img, mask)\n",
        "    return img, mask\n",
        "\n",
        "def get_plane_dataset(set_name='train', batch_size=2):\n",
        "    my_data_list = DatasetCatalog.get(\"data_detection_{}\".format(set_name))\n",
        "    dataset = PlaneDataset(set_name, my_data_list)\n",
        "    loader = DataLoader(dataset, batch_size=batch_size, num_workers=4,\n",
        "                                              pin_memory=True, shuffle=True)\n",
        "    return loader, dataset"
      ],
      "execution_count": null,
      "outputs": []
    },
    {
      "cell_type": "markdown",
      "metadata": {
        "id": "m6eH3NKaQQfc"
      },
      "source": [
        "### Network"
      ]
    },
    {
      "cell_type": "code",
      "metadata": {
        "id": "PeqR3s3dSBPN"
      },
      "source": [
        "'''\n",
        "# convolution module as a template layer consists of conv2d layer, batch normalization, and relu activation\n",
        "'''\n",
        "class conv(nn.Module):\n",
        "    def __init__(self, in_ch, out_ch, activation=True):\n",
        "        super(conv, self).__init__()\n",
        "        if(activation):\n",
        "          self.layer = nn.Sequential(\n",
        "             nn.Conv2d(in_ch, out_ch, 3, padding=1),\n",
        "             nn.BatchNorm2d(out_ch),\n",
        "             nn.ReLU(inplace=True)\n",
        "          )\n",
        "        else:\n",
        "          self.layer = nn.Sequential(\n",
        "             nn.Conv2d(in_ch, out_ch, 3, padding=1)  \n",
        "             )\n",
        "\n",
        "    def forward(self, x):\n",
        "        x = self.layer(x)\n",
        "        return x\n",
        "\n",
        "'''\n",
        "# downsampling module equal to a conv module followed by a max-pool layer\n",
        "'''\n",
        "class down(nn.Module):\n",
        "    def __init__(self, in_ch, out_ch):\n",
        "        super(down, self).__init__()\n",
        "        self.layer = nn.Sequential(\n",
        "            conv(in_ch, out_ch),\n",
        "            nn.MaxPool2d(2)\n",
        "            )\n",
        "\n",
        "    def forward(self, x):\n",
        "        x = self.layer(x)\n",
        "        return x\n",
        "\n",
        "'''\n",
        "# upsampling module equal to a upsample function followed by a conv module\n",
        "'''\n",
        "class up(nn.Module):\n",
        "    def __init__(self, in_ch, out_ch, bilinear=False):\n",
        "        super(up, self).__init__()\n",
        "        if bilinear:\n",
        "            self.layer = nn.Sequential(\n",
        "                nn.Upsample(scale_factor=2, mode='bilinear', align_corners=True)\n",
        "            )\n",
        "        else:\n",
        "            self.layer = nn.Sequential(\n",
        "                nn.ConvTranspose2d(in_ch, out_ch, 3, padding=1),\n",
        "                nn.BatchNorm2d(out_ch),\n",
        "                nn.ReLU(inplace=True)           \n",
        "            )\n",
        "\n",
        "        #self.conv = conv(in_ch, out_ch)\n",
        "\n",
        "    def forward(self, x):\n",
        "        y = self.layer(x)\n",
        "        return y\n",
        "\n",
        "'''\n",
        "# the main model which you need to complete by using above modules.\n",
        "# you can also modify the above modules in order to improve your results.\n",
        "'''\n",
        "class MyModel(nn.Module):\n",
        "    def __init__(self):\n",
        "        super(MyModel, self).__init__()\n",
        "        \n",
        "        # Encoder\n",
        "\n",
        "        self.input_conv = conv(3, 64)\n",
        "        self.down1 = down(64,64)\n",
        "        self.conv1 = conv(64,128)\n",
        "        self.down2 = down(128,128)\n",
        "        self.conv2 = conv(128,256)\n",
        "        self.conv3 = conv(256,256)\n",
        "        self.down3 = down(256,256)\n",
        "        self.conv4 = conv(256,512)\n",
        "        self.conv5 = conv(512,512)\n",
        "        self.down4 = down(512,512)\n",
        "        \n",
        "        # Decoder\n",
        "\n",
        "        self.up1 = up(512,512,bilinear=True)\n",
        "        self.up2 = up(512,512)\n",
        "        self.up3 = up(512,256)\n",
        "        self.up4 = up(256,256,bilinear =True)\n",
        "        self.up5 = up(256,256)\n",
        "        self.up6 = up(256,128)\n",
        "        self.up7 = up(128,128,bilinear =True)\n",
        "        self.up8 = up(128,64)\n",
        "        self.up9 = up(64,64,bilinear =True)  \n",
        "\n",
        "        self.output_conv = conv(64, 1, False) # ReLu activation is removed to keep the logits for the loss function\n",
        "\n",
        "\n",
        "    def forward(self, input):\n",
        "        y = self.input_conv(input)\n",
        "        y = self.down1(y)\n",
        "        y = self.conv1(y)\n",
        "        y = self.down2(y)\n",
        "        y = self.conv2(y)\n",
        "        y = self.conv3(y)\n",
        "        y = self.down3(y)\n",
        "        y = self.conv4(y)\n",
        "        y = self.conv5(y)\n",
        "        y = self.down4(y)\n",
        "\n",
        "        y = self.up1(y)\n",
        "        y = self.up2(y)\n",
        "        y = self.up3(y)\n",
        "        y = self.up4(y)\n",
        "        y = self.up5(y)\n",
        "        y = self.up6(y)\n",
        "        y = self.up7(y)\n",
        "        y = self.up8(y)\n",
        "        y = self.up9(y)\n",
        "        output = self.output_conv(y)\n",
        "\n",
        "        return output"
      ],
      "execution_count": null,
      "outputs": []
    },
    {
      "cell_type": "markdown",
      "metadata": {
        "id": "rQj86vD9QT_Z"
      },
      "source": [
        "### Training"
      ]
    },
    {
      "cell_type": "code",
      "metadata": {
        "id": "MaZuO4SKSBuF"
      },
      "source": [
        "'''\n",
        "# The following is a basic training procedure to train the network\n",
        "# You need to update the code to get the best performance\n",
        "# TODO: approx ? lines\n",
        "'''\n",
        "class DiceLoss(nn.Module):\n",
        "    def __init__(self, weight=None, size_average=True):\n",
        "        super(DiceLoss, self).__init__()\n",
        "\n",
        "    def forward(self, inputs, targets, smooth=1):\n",
        "        \n",
        "        #comment out if your model contains a sigmoid or equivalent activation layer\n",
        "        inputs = F.sigmoid(inputs)       \n",
        "        \n",
        "        #flatten label and prediction tensors\n",
        "        inputs = inputs.view(-1)\n",
        "        targets = targets.view(-1)\n",
        "        \n",
        "        intersection = (inputs * targets).sum()                            \n",
        "        dice = (2.*intersection + smooth)/(inputs.sum() + targets.sum() + smooth)  \n",
        "        \n",
        "        return 1 - dice\n",
        "\n",
        "class IoULoss(nn.Module):\n",
        "    def __init__(self, weight=None, size_average=True):\n",
        "        super(IoULoss, self).__init__()\n",
        "\n",
        "    def forward(self, inputs, targets, smooth=1):\n",
        "        \n",
        "        #comment out if your model contains a sigmoid or equivalent activation layer\n",
        "        inputs = F.sigmoid(inputs)       \n",
        "        \n",
        "        #flatten label and prediction tensors\n",
        "        inputs = inputs.view(-1)\n",
        "        targets = targets.view(-1)\n",
        "        \n",
        "        #intersection is equivalent to True Positive count\n",
        "        #union is the mutually inclusive area of all labels & predictions \n",
        "        intersection = (inputs * targets).sum()\n",
        "        total = (inputs + targets).sum()\n",
        "        union = total - intersection \n",
        "        \n",
        "        IoU = (intersection + smooth)/(union + smooth)\n",
        "                \n",
        "        return 1 - IoU\n",
        "\n",
        "# Set the hyperparameters\n",
        "num_epochs = 20\n",
        "batch_size = 100\n",
        "learning_rate = 0.02\n",
        "weight_decay = 1e-5\n",
        "\n",
        "model = MyModel() # initialize the model\n",
        "model = model.cuda() # move the model to GPU\n",
        "loader, _ = get_plane_dataset('train', batch_size) # initialize data_loader\n",
        "crit1 = nn.BCEWithLogitsLoss() # Define the loss function\n",
        "crit2 = DiceLoss()\n",
        "crit3 = IoULoss()\n",
        "optim = torch.optim.SGD(model.parameters(), lr=learning_rate, weight_decay=weight_decay) # Initialize the optimizer as SGD\n",
        "plt.ioff()\n",
        "fig = plt.figure()\n",
        "train_loss_over_epochs=[]\n",
        "\n",
        "# start the training procedure\n",
        "for epoch in range(num_epochs):\n",
        "  total_loss = 0\n",
        "  for (img, mask) in tqdm(loader):\n",
        "    img = torch.tensor(img, device=torch.device('cuda'), requires_grad = True)\n",
        "    mask = torch.tensor(mask, device=torch.device('cuda'), requires_grad = True)\n",
        "    mask = torch.unsqueeze(mask, 1)\n",
        "    pred = model(img)\n",
        "    loss = crit1(pred,mask)+crit2(pred,mask)+crit3(pred,mask)\n",
        "    optim.zero_grad()\n",
        "    loss.backward()\n",
        "    optim.step()\n",
        "    total_loss += loss.cpu().data\n",
        "  print(\"Epoch: {}, Loss: {}\".format(epoch, total_loss/len(loader)))\n",
        "  torch.save(model.state_dict(), '{}/output/{}_segmentation_model.pth'.format(BASE_DIR, epoch))\n",
        "  train_loss_over_epochs.append(total_loss)\n",
        "\n",
        "# plot the figure\n",
        "plt.subplot(2, 1, 1)\n",
        "plt.ylabel('Train loss')\n",
        "plt.plot(np.arange(num_epochs), train_loss_over_epochs, 'k-')\n",
        "plt.title('train loss')\n",
        "plt.xticks(np.arange(num_epochs, dtype=int))\n",
        "plt.grid(True)\n",
        "plt.savefig(os.path.join(BASE_DIR,\"plot.png\"))\n",
        "plt.close(fig)\n",
        "\n",
        "'''\n",
        "# Saving the final model\n",
        "'''\n",
        "torch.save(model.state_dict(), '{}/output/final_segmentation_model.pth'.format(BASE_DIR))\n"
      ],
      "execution_count": null,
      "outputs": []
    },
    {
      "cell_type": "markdown",
      "metadata": {
        "id": "0dyez1fyQYw7"
      },
      "source": [
        "### Evaluation and Visualization"
      ]
    },
    {
      "cell_type": "code",
      "metadata": {
        "id": "TDeViryUSCL2"
      },
      "source": [
        "'''\n",
        "# Before starting the evaluation, you need to set the model mode to eval\n",
        "# You may load the trained model again, in case if you want to continue your code later\n",
        "# TODO: approx 15 lines\n",
        "'''\n",
        "batch_size = 100\n",
        "model = MyModel().cuda()\n",
        "model.load_state_dict(torch.load('{}/output/final_segmentation_model.pth'.format(BASE_DIR)))\n",
        "model = model.eval() # chaning the model to evaluation mode will fix the bachnorm layers\n",
        "loader, dataset = get_plane_dataset('train', batch_size)\n",
        "total_iou = 0\n",
        "for (img, mask) in tqdm(loader):\n",
        "  with torch.no_grad():\n",
        "    img = img.cuda()\n",
        "    mask = mask.cuda()\n",
        "    mask = torch.unsqueeze(mask,1)\n",
        "    pred = model(img)\n",
        "\n",
        "    '''\n",
        "    ## Complete the code by obtaining the IoU for each img and print the final Mean IoU\n",
        "    '''\n",
        "    # set the threshold to 0.5\n",
        "    pred[pred>=0.5] = 1\n",
        "    pred[pred<0.5] = 0\n",
        "    for i in range(0,len(mask)):\n",
        "      intersection = torch.sum(torch.mul(mask[i],pred[i]))\n",
        "      union = torch.sum(mask[i])+torch.sum(pred[i])-intersection\n",
        "      IoU = intersection/union\n",
        "      total_iou+=IoU\n",
        "   \n",
        "num_img = dataset.__len__()\n",
        "print(\"\\n #images: {}, Mean IoU: {}\".format(num_img, total_iou/num_img))\n"
      ],
      "execution_count": null,
      "outputs": []
    },
    {
      "cell_type": "code",
      "metadata": {
        "id": "jbmTj9JICiKz"
      },
      "source": [
        "'''\n",
        "# Visualize 3 sample outputs\n",
        "# TODO: approx 5 lines\n",
        "'''\n",
        "\n",
        "# reload the test dataset if needed\n",
        "#dataset_test_dicts = get_detection_data(\"test\") \n",
        "def drawSampleAndResult(img):\n",
        "  cv2_imshow(img)\n",
        "\n",
        "  # mask1 = cv2.resize(mask1, dsize=(128, 128), interpolation=cv2.INTER_CUBIC)\n",
        "  # cv2_imshow(mask1*255)\n",
        "  img = np.moveaxis(img,2,0)\n",
        "  img = img/255\n",
        "\n",
        "  img = torch.tensor(img, device=torch.device('cuda'), requires_grad = False, dtype=torch.float)\n",
        "  img = torch.unsqueeze(img,0)\n",
        "  img = img.cuda()\n",
        "\n",
        "  pred1 = model(img)\n",
        "  out = pred1.data\n",
        "  out = torch.squeeze(out)\n",
        "  out = out.cpu().numpy()\n",
        "  out[out>=0.5] = 1\n",
        "  out[out<0.5] = 0\n",
        "  cv2_imshow(out*255)\n",
        "\n",
        "img = cv2.imread(dataset_test_dicts[1][\"file_name\"])\n",
        "instances = predictor(img)[\"instances\"].to(\"cpu\")\n",
        "img_pred_boxes = instances.get(\"pred_boxes\")\n",
        "bbox = img_pred_boxes[0].tensor.numpy().squeeze()\n",
        "bbox = [round(bbox[0]),round(bbox[1]),round(bbox[2]),round(bbox[3])]\n",
        "img1 = img[bbox[1]:bbox[3], bbox[0]:bbox[2]]\n",
        "img1 = cv2.resize(img1, dsize=(128, 128), interpolation=cv2.INTER_CUBIC)\n",
        "drawSampleAndResult(img1)\n",
        "\n",
        "img = cv2.imread(dataset_test_dicts[2][\"file_name\"])\n",
        "instances = predictor(img)[\"instances\"].to(\"cpu\")\n",
        "img_pred_boxes = instances.get(\"pred_boxes\")\n",
        "bbox = img_pred_boxes[0].tensor.numpy().squeeze()\n",
        "bbox = [round(bbox[0]),round(bbox[1]),round(bbox[2]),round(bbox[3])]\n",
        "img1 = img[bbox[1]:bbox[3], bbox[0]:bbox[2]]\n",
        "img1 = cv2.resize(img1, dsize=(128, 128), interpolation=cv2.INTER_CUBIC)\n",
        "drawSampleAndResult(img1)\n",
        "\n",
        "img = cv2.imread(dataset_test_dicts[4][\"file_name\"])\n",
        "instances = predictor(img)[\"instances\"].to(\"cpu\")\n",
        "img_pred_boxes = instances.get(\"pred_boxes\")\n",
        "bbox = img_pred_boxes[0].tensor.numpy().squeeze()\n",
        "bbox = [round(bbox[0]),round(bbox[1]),round(bbox[2]),round(bbox[3])]\n",
        "img1 = img[bbox[1]:bbox[3], bbox[0]:bbox[2]]\n",
        "img1 = cv2.resize(img1, dsize=(128, 128), interpolation=cv2.INTER_CUBIC)\n",
        "drawSampleAndResult(img1)\n",
        "\n",
        "# img2, mask2 = get_instance_sample(dataset_train_dicts[0],15)\n",
        "# cv2_imshow(img2)\n",
        "# cv2_imshow(mask2*255)\n",
        "# pred2 = model(img2)\n",
        "# pred2[pred2>=0.5] = 1\n",
        "# pred2[pred2<0.5] = 0\n",
        "# cv2_imshow(pred2*255)\n",
        "\n",
        "# img3, mask3 = get_instance_sample(dataset_train_dicts[0],20)\n",
        "# cv2_imshow(img3)\n",
        "# cv2_imshow(mask3*255)\n",
        "# pred3 = model(img3)\n",
        "# pred3[pred3>=0.5] = 1\n",
        "# pred3[pred3<0.5] = 0\n",
        "# cv2_imshow(pred3*255)"
      ],
      "execution_count": null,
      "outputs": []
    },
    {
      "cell_type": "markdown",
      "metadata": {
        "id": "navoiGdrqaZT"
      },
      "source": [
        "## Part 3: Instance Segmentation\n",
        "\n",
        "In this part, you need to obtain the instance segmentation results for the test data by using the trained segmentation model in the previous part and the detection model in Part 1."
      ]
    },
    {
      "cell_type": "markdown",
      "metadata": {
        "id": "vBwk33DGBowP"
      },
      "source": [
        "### Get Prediction"
      ]
    },
    {
      "cell_type": "code",
      "metadata": {
        "id": "crrZ8TG-Ot2J"
      },
      "source": [
        "'''\n",
        "# Define a new function to obtain the prediction mask by passing a sample data\n",
        "# For this part, you need to use all the previous parts (predictor, get_instance_sample, data preprocessings, etc)\n",
        "# It is better to keep everything (as well as the output of this funcion) on gpu as tensors to speed up the operations.\n",
        "# pred_mask is the instance segmentation result and should have different values for different planes.\n",
        "# TODO: approx 35 lines\n",
        "'''\n",
        "\n",
        "def get_prediction_mask(data):\n",
        "  img = cv2.imread(data[\"file_name\"])\n",
        "  objs = data[\"annotations\"]\n",
        "  w = data[\"width\"]\n",
        "  h = data[\"height\"]\n",
        "  gt_mask = np.zeros((h, w))\n",
        "  pred_mask = np.zeros((h,w))\n",
        "  for idx in range (len(objs)):\n",
        "    im, mask = get_instance_sample(data,idx,img)\n",
        "    bbox = objs[idx][\"bbox\"]\n",
        "    gt_mask[bbox[1]:bbox[1]+bbox[3], bbox[0]:bbox[0]+bbox[2]] = mask\n",
        "\n",
        "  b_img_list, d_list = get_block_imgs(data, \"test\")\n",
        "  outputs_list = [] \n",
        "  b_w = d_list[0][\"width\"]\n",
        "  b_h = d_list[0][\"height\"]\n",
        "  num_col = 1\n",
        "  num_row = 1\n",
        "  if data[\"width\"] >= 2000:\n",
        "    num_col = data[\"width\"]//1000\n",
        "  if data[\"height\"] >= 2000:\n",
        "    num_row = data[\"height\"]//1000\n",
        "  num_instances = 0\n",
        "  for i in range(len(b_img_list)):\n",
        "    current_row = i%num_row\n",
        "    current_col = i//num_row\n",
        "    sub_pred_mask = np.zeros((b_h,b_w))\n",
        "    detection_pred = predictor(b_img_list[i])[\"instances\"].to(\"cpu\")\n",
        "    bboxes_detected = detection_pred.get(\"pred_boxes\")\n",
        "    for j in range(len(bboxes_detected)):\n",
        "      num_instances+=1\n",
        "      bbox_pred =  bboxes_detected[j].tensor.numpy().squeeze()\n",
        "      bbox_pred = [round(bbox_pred[0]),round(bbox_pred[1]),round(bbox_pred[2]),round(bbox_pred[3])]\n",
        "      box_img = b_img_list[i][bbox_pred[1]:bbox_pred[3], bbox_pred[0]:bbox_pred[2]]\n",
        "      #cv2_imshow(box_img)\n",
        "\n",
        "      box_img = cv2.resize(box_img, dsize=(128, 128), interpolation=cv2.INTER_CUBIC)\n",
        "      box_img = np.moveaxis(box_img,2,0)\n",
        "      box_img = box_img/255\n",
        "\n",
        "      box_img = torch.tensor(box_img, device=torch.device('cuda'), requires_grad = False, dtype=torch.float)\n",
        "      box_img = torch.unsqueeze(box_img,0)\n",
        "      box_img = box_img.cuda()\n",
        "\n",
        "      pred1 = model(box_img)\n",
        "      out = pred1.data\n",
        "      out = torch.squeeze(out)\n",
        "      out = out.cpu().numpy()\n",
        "      out[out>=0.5] = num_instances\n",
        "      out[out<0.5] = 0\n",
        "      mask = cv2.resize(out, dsize=(bbox_pred[2]-bbox_pred[0], bbox_pred[3]-bbox_pred[1]), interpolation=cv2.INTER_NEAREST)\n",
        "      sub_pred_mask[bbox_pred[1]:bbox_pred[3], bbox_pred[0]:bbox_pred[2]] = mask\n",
        "    pred_mask[current_row*b_h:(current_row+1)*b_h, current_col*b_w:(current_col+1)*b_w] = sub_pred_mask\n",
        "  pred_mask = torch.tensor(pred_mask, device=torch.device('cuda'), dtype=torch.long)\n",
        "  return img, gt_mask, pred_mask # gt_mask could be all zero when the ground truth is not given.\n"
      ],
      "execution_count": null,
      "outputs": []
    },
    {
      "cell_type": "markdown",
      "metadata": {
        "id": "fc7TSK6EBi9u"
      },
      "source": [
        "### Visualization and Submission"
      ]
    },
    {
      "cell_type": "code",
      "metadata": {
        "id": "H7T2YX8MBiGO"
      },
      "source": [
        "'''\n",
        "# Visualise the output prediction as well as the GT Mask and Input image for a sample input\n",
        "# TODO: approx 10 lines\n",
        "'''\n",
        "c=0\n",
        "for s in [0, 10, 30]:\n",
        "  c+=1\n",
        "  img1, gt_mask1, pred_mask1 = get_prediction_mask(dataset_test_dicts[s])\n",
        "\n",
        "  pred_mask1 = pred_mask1.cpu().numpy()\n",
        "  for i in range(pred_mask1.shape[0]):\n",
        "    for j in range(pred_mask1.shape[1]):\n",
        "      if(pred_mask1[i][j] > 0):\n",
        "        pred_mask1[i][j] = 255 - (pred_mask1[i][j]-1)*2\n",
        "  print(\"result \", c,\" for test data\")\n",
        "  print(\"image:\")\n",
        "  img1 = cv2.resize(img1, (0,0), fx=0.2, fy=0.2) \n",
        "  pred_mask1 = pred_mask1.astype('float32')\n",
        "  pred_mask1 = cv2.resize(pred_mask1, (0,0), fx=0.2, fy=0.2) \n",
        "  cv2_imshow(img1)\n",
        "  print(\"pred_mask:\")\n",
        "  cv2_imshow(pred_mask1)\n",
        "\n"
      ],
      "execution_count": null,
      "outputs": []
    },
    {
      "cell_type": "code",
      "metadata": {
        "id": "uPo_03up-g_f"
      },
      "source": [
        "'''\n",
        "# ref: https://www.kaggle.com/rakhlin/fast-run-length-encoding-python\n",
        "# https://www.kaggle.com/c/airbus-ship-detection/overview/evaluation\n",
        "'''\n",
        "def rle_encoding(x):\n",
        "    '''\n",
        "    x: pytorch tensor on gpu, 1 - mask, 0 - background\n",
        "    Returns run length as list\n",
        "    '''\n",
        "    dots = torch.where(torch.flatten(x.long())==1)[0]\n",
        "    if(len(dots)==0):\n",
        "      return []\n",
        "    inds = torch.where(dots[1:]!=dots[:-1]+1)[0]+1\n",
        "    inds = torch.cat((torch.tensor([0], device=torch.device('cuda'), dtype=torch.long), inds))\n",
        "    tmpdots = dots[inds]\n",
        "    inds = torch.cat((inds, torch.tensor([len(dots)], device=torch.device('cuda'))))\n",
        "    inds = inds[1:] - inds[:-1]\n",
        "    runs = torch.cat((tmpdots, inds)).reshape((2,-1))\n",
        "    runs = torch.flatten(torch.transpose(runs, 0, 1)).cpu().data.numpy()\n",
        "    return ' '.join([str(i) for i in runs])"
      ],
      "execution_count": null,
      "outputs": []
    },
    {
      "cell_type": "code",
      "metadata": {
        "id": "zv0rab2LJev-"
      },
      "source": [
        "'''\n",
        "# You need to upload the csv file on kaggle\n",
        "# The speed of your code in the previous parts highly affects the running time of this part\n",
        "'''\n",
        "\n",
        "preddic = {\"ImageId\": [], \"EncodedPixels\": []}\n",
        "\n",
        "'''\n",
        "# Writing the predictions of the training set\n",
        "'''\n",
        "my_data_list = DatasetCatalog.get(\"data_detection_{}\".format('train'))\n",
        "for i in tqdm(range(len(my_data_list)), position=0, leave=True):\n",
        "  sample = my_data_list[i]\n",
        "  sample['image_id'] = sample['file_name'].split(\"/\")[-1][:-4]\n",
        "  img, true_mask, pred_mask = get_prediction_mask(sample)\n",
        "  inds = torch.unique(pred_mask)\n",
        "  if(len(inds)==1):\n",
        "    preddic['ImageId'].append(sample['image_id'])\n",
        "    preddic['EncodedPixels'].append([])\n",
        "  else:\n",
        "    for index in inds:\n",
        "      if(index == 0):\n",
        "        continue\n",
        "      tmp_mask = (pred_mask==index)\n",
        "      encPix = rle_encoding(tmp_mask)\n",
        "      preddic['ImageId'].append(sample['image_id'])\n",
        "      preddic['EncodedPixels'].append(encPix)\n",
        "\n",
        "'''\n",
        "# Writing the predictions of the test set\n",
        "'''\n",
        "\n",
        "my_data_list = DatasetCatalog.get(\"data_detection_{}\".format('test'))\n",
        "for i in tqdm(range(len(my_data_list)), position=0, leave=True):\n",
        "  sample = my_data_list[i]\n",
        "  sample['image_id'] = sample['file_name'].split(\"/\")[-1][:-4]\n",
        "  img, true_mask, pred_mask = get_prediction_mask(sample)\n",
        "  inds = torch.unique(pred_mask)\n",
        "  if(len(inds)==1):\n",
        "    preddic['ImageId'].append(sample['image_id'])\n",
        "    preddic['EncodedPixels'].append([])\n",
        "  else:\n",
        "    for j, index in enumerate(inds):\n",
        "      if(index == 0):\n",
        "        continue\n",
        "      tmp_mask = (pred_mask==index).double()\n",
        "      encPix = rle_encoding(tmp_mask)\n",
        "      preddic['ImageId'].append(sample['image_id'])\n",
        "      preddic['EncodedPixels'].append(encPix)\n",
        "\n",
        "pred_file = open(\"{}/pred.csv\".format(BASE_DIR), 'w')\n",
        "pd.DataFrame(preddic).to_csv(pred_file, index=False)\n",
        "pred_file.close()\n"
      ],
      "execution_count": null,
      "outputs": []
    },
    {
      "cell_type": "markdown",
      "metadata": {
        "id": "p7nN4SduqrpI"
      },
      "source": [
        "## Part 4: Mask R-CNN\n",
        "\n",
        "For this part you need to follow a same procedure to part 2 with the configs of Mask R-CNN, other parts are generally the same as part 2."
      ]
    },
    {
      "cell_type": "markdown",
      "metadata": {
        "id": "axWf7drKNXYd"
      },
      "source": [
        "### Data Loader"
      ]
    },
    {
      "cell_type": "code",
      "metadata": {
        "id": "yC1FDCcQN2LH"
      },
      "source": [
        "#dataset_train_block_dicts = dataProcess(dataset_train_dicts)\n",
        "for i in range(len(dataset_train_block_dicts)):\n",
        "  _, gt_masks, _ = get_prediction_mask(dataset_train_block_dicts[i])\n",
        "  dataset_train_block_dicts[i][\"gt_masks\"] = gt_masks\n",
        "\n"
      ],
      "execution_count": null,
      "outputs": []
    },
    {
      "cell_type": "markdown",
      "metadata": {
        "id": "lG5slAhQNjE7"
      },
      "source": [
        "### Network"
      ]
    },
    {
      "cell_type": "code",
      "metadata": {
        "id": "KG1pnKLMOcjS"
      },
      "source": [
        "cfg2 = get_cfg()\n",
        "cfg2.OUTPUT_DIR = \"{}/output2/\".format(BASE_DIR)\n",
        "cfg2.merge_from_file(model_zoo.get_config_file(\"COCO-InstanceSegmentation/mask_rcnn_R_50_FPN_3x.yaml\"))\n",
        "cfg2.DATASETS.TRAIN = (\"data_detection_train_block\",)\n",
        "cfg2.DATASETS.TEST = ()\n",
        "cfg2.DATALOADER.NUM_WORKERS = 2\n",
        "cfg2.MODEL.WEIGHTS = model_zoo.get_checkpoint_url(\"COCO-InstanceSegmentation/mask_rcnn_R_50_FPN_3x.yaml\")  # Let training initialize from model zoo\n",
        "cfg2.SOLVER.IMS_PER_BATCH = 8\n",
        "cfg2.SOLVER.BASE_LR = 0.01  # pick a good LR\n",
        "cfg2.SOLVER.MAX_ITER = 200    \n",
        "cfg2.SOLVER.STEPS = []        # do not decay learning rate\n",
        "cfg2.MODEL.ROI_HEADS.NUM_CLASSES = 1\n"
      ],
      "execution_count": null,
      "outputs": []
    },
    {
      "cell_type": "markdown",
      "metadata": {
        "id": "t7ifeV1sNvtt"
      },
      "source": [
        "### Training"
      ]
    },
    {
      "cell_type": "code",
      "metadata": {
        "id": "tc4K0Nz5OeKk"
      },
      "source": [
        "os.makedirs(cfg2.OUTPUT_DIR, exist_ok=True)\n",
        "trainer2 = DefaultTrainer(cfg2) \n",
        "trainer2.resume_or_load(resume=False)\n",
        "trainer2.train()\n"
      ],
      "execution_count": null,
      "outputs": []
    },
    {
      "cell_type": "code",
      "metadata": {
        "id": "5yavaCTmRsla"
      },
      "source": [
        "# load the weight and generate predictor here\n",
        "\n",
        "cfg2.MODEL.WEIGHTS = os.path.join(cfg2.OUTPUT_DIR, \"model_final.pth\")\n",
        "predictor2 = DefaultPredictor(cfg2)"
      ],
      "execution_count": null,
      "outputs": []
    },
    {
      "cell_type": "markdown",
      "metadata": {
        "id": "298QruFnNxyn"
      },
      "source": [
        "### Evaluation and Visualization"
      ]
    },
    {
      "cell_type": "code",
      "metadata": {
        "id": "KcGwV5-9Oetp"
      },
      "source": [
        "c = 0\n",
        "for d in [dataset_test_dicts[0], dataset_test_dicts[10], dataset_test_dicts[30]]:    \n",
        "    c+=1\n",
        "    b_img_list, d_list = get_block_imgs(d, \"test\")\n",
        "    outputs_list = [] \n",
        "    out_image = np.zeros((d[\"height\"],d[\"width\"]))\n",
        "    # divide the test image into blocks\n",
        "    b_w = d_list[0][\"width\"]\n",
        "    b_h = d_list[0][\"height\"]\n",
        "    num_col = 1\n",
        "    num_row = 1\n",
        "    if d[\"width\"] >= 2000:\n",
        "      num_col = d[\"width\"]//1000\n",
        "    if d[\"height\"] >= 2000:\n",
        "      num_row = d[\"height\"]//1000\n",
        "\n",
        "    for i in range(len(b_img_list)):\n",
        "      pred = predictor2(b_img_list[i])\n",
        "      v = Visualizer(b_img_list[i][:, :, ::-1],\n",
        "                    metadata=plane_train_metadata, \n",
        "                      # remove the colors of unsegmented pixels. This option is only available for segmentation models\n",
        "      )\n",
        "      out = pred[\"instances\"].to(\"cpu\").get(\"pred_masks\").numpy()\n",
        "      out[out>0.5]=1\n",
        "      fout = np.zeros((b_h,b_w))\n",
        "      for j in range(len(out)):\n",
        "        fout = fout+out[j]\n",
        "      current_row = i%num_row\n",
        "      current_col = i//num_row\n",
        "      # merge the block images to whole image and visualize the result\n",
        "      out_image[current_row*b_h:(current_row+1)*b_h, current_col*b_w:(current_col+1)*b_w] = fout\n",
        "    print(\"result \",c)\n",
        "    out_image = cv2.resize(out_image, (0,0), fx=0.2, fy=0.2) \n",
        "    cv2_imshow(out_image*255)"
      ],
      "execution_count": null,
      "outputs": []
    },
    {
      "cell_type": "code",
      "metadata": {
        "id": "l_3wS2BFLLGp"
      },
      "source": [
        "evaluator = COCOEvaluator(\"data_detection_train_block\", output_dir=\"./output\")\n",
        "val_loader2 = build_detection_test_loader(cfg2, \"data_detection_train_block\")\n",
        "print(inference_on_dataset(predictor2.model, val_loader2, evaluator))\n"
      ],
      "execution_count": null,
      "outputs": []
    }
  ]
}